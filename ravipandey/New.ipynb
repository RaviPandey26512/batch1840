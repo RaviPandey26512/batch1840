{
  "nbformat": 4,
  "nbformat_minor": 0,
  "metadata": {
    "colab": {
      "name": "New.ipynb",
      "provenance": []
    },
    "kernelspec": {
      "name": "python3",
      "display_name": "Python 3"
    },
    "language_info": {
      "name": "python"
    }
  },
  "cells": [
    {
      "cell_type": "code",
      "execution_count": 3,
      "metadata": {
        "colab": {
          "base_uri": "https://localhost:8080/",
          "height": 35
        },
        "id": "V8SZLZsj3Uau",
        "outputId": "d32cd752-47ad-41f9-f6dc-67c52af985ae"
      },
      "outputs": [
        {
          "output_type": "execute_result",
          "data": {
            "text/plain": [
              "\"Hello Batch 1843, welcome to the project phase. Now, it's time to put your theoretical knowledge into practice. \""
            ],
            "application/vnd.google.colaboratory.intrinsic+json": {
              "type": "string"
            }
          },
          "metadata": {},
          "execution_count": 3
        }
      ],
      "source": [
        "Data=\"Hello Batch 1843, welcome to the project phase. Now, it's time to put your theoretical knowledge into practice. \"\n",
        "Data"
      ]
    }
  ]
}